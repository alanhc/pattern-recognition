{
 "cells": [
  {
   "cell_type": "code",
   "execution_count": 3,
   "metadata": {},
   "outputs": [],
   "source": [
    "import os\n",
    "import numpy as np\n",
    "from collections import Counter\n",
    "from sklearn import svm\n",
    "from sklearn.metrics import accuracy_score\n",
    "\n",
    "import pickle as pk\n",
    "import gzip\n",
    "\n",
    "def extract_features(mail_dir):\n",
    "    files = [os.path.join(mail_dir,fi) for fi in os.listdir(mail_dir)]\n",
    "    features_matrix = np.zeros((len(files),3000))   #file_no=702, word_no=3000\n",
    "    train_labels = np.zeros(len(files))             #file_no=702\n",
    "    count = 0;\n",
    "    docID = 0;\n",
    "    for fil in files:                        #從文件夾中列舉文件檔案\n",
    "      with open(fil) as fi:                  #開啟目前要處理的文件檔案(命名為fi)\n",
    "        for i,line in enumerate(fi):         #列舉處理文件檔案中的列編號與列資料\n",
    "          if i == 2:                         #第三列開始處理\n",
    "            words = line.split()             #將第三列文字分割\n",
    "            for word in words:               #針對分割後的文字，逐字檢查\n",
    "              wordID = 0\n",
    "              for i,d in enumerate(dictionary): #與整個樣本集的特徵關鍵字比較(3000個)\n",
    "                if d[0] == word:\n",
    "                  wordID = i\n",
    "                  features_matrix[docID,wordID] = words.count(word)  #累計處理文件中的特徵關鍵字數量\n",
    "      train_labels[docID] =0;             #處理文件的label建立(0:msg，1:spmsg)\n",
    "      filepathTokens = fil.split(\"'\\'\")      #分割處理文件的檔名\n",
    "      head_tail = os.path.split(fil)\n",
    "      lastToken=head_tail[1]\n",
    "      if lastToken.startswith(\"spmsg\"):          #檢查檔名是否有spmsg(代表為spam)\n",
    "         train_labels[docID] = 1;               #標籤訂為\"1\"\n",
    "         count = count + 1\n",
    "      docID = docID + 1\n",
    "    return features_matrix, train_labels\n",
    "\n",
    "def make_Dictionary(root_dir):\n",
    "    all_words = []\n",
    "    emails = [os.path.join(root_dir,f) for f in os.listdir(root_dir)]\n",
    "    for mail in emails:\n",
    "        with open(mail) as m:\n",
    "            for line in m:\n",
    "                words = line.split()\n",
    "                all_words += words\n",
    "    dictionary = Counter(all_words)\n",
    "    list_to_remove = dictionary.keys()\n",
    "\n",
    "    for item in list(list_to_remove):\n",
    "        if item.isalpha() == False:\n",
    "            del dictionary[item]\n",
    "        elif len(item) == 1:\n",
    "            del dictionary[item]\n",
    "    dictionary = dictionary.most_common(3000)\n",
    "\n",
    "    return dictionary\n",
    "\n",
    "\n",
    "TRAIN_DIR = \"train-mails\"\n",
    "TEST_DIR = \"test-mails\"\n",
    "\n"
   ]
  },
  {
   "cell_type": "code",
   "execution_count": null,
   "metadata": {},
   "outputs": [],
   "source": []
  },
  {
   "cell_type": "code",
   "execution_count": 4,
   "metadata": {},
   "outputs": [],
   "source": [
    "dictionary = make_Dictionary(TRAIN_DIR)\n",
    "features_matrix, labels = extract_features(TRAIN_DIR)\n",
    "test_feature_matrix, test_labels = extract_features(TEST_DIR)\n"
   ]
  },
  {
   "cell_type": "code",
   "execution_count": 6,
   "metadata": {},
   "outputs": [
    {
     "name": "stdout",
     "output_type": "stream",
     "text": [
      "(702, 3000) (702,)\n",
      "(260, 3000) (260,)\n"
     ]
    }
   ],
   "source": [
    "print(features_matrix.shape, labels.shape)\n",
    "print(test_feature_matrix.shape, test_labels.shape)"
   ]
  },
  {
   "cell_type": "code",
   "execution_count": null,
   "metadata": {},
   "outputs": [],
   "source": []
  }
 ],
 "metadata": {
  "kernelspec": {
   "display_name": "Python 3",
   "language": "python",
   "name": "python3"
  },
  "language_info": {
   "codemirror_mode": {
    "name": "ipython",
    "version": 3
   },
   "file_extension": ".py",
   "mimetype": "text/x-python",
   "name": "python",
   "nbconvert_exporter": "python",
   "pygments_lexer": "ipython3",
   "version": "3.7.7"
  }
 },
 "nbformat": 4,
 "nbformat_minor": 4
}
