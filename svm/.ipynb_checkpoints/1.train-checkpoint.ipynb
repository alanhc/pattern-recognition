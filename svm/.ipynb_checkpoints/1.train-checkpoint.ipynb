{
 "cells": [
  {
   "cell_type": "code",
   "execution_count": 1,
   "metadata": {},
   "outputs": [
    {
     "name": "stdout",
     "output_type": "stream",
     "text": [
      "train: (702, 3000) (702, 1)\n",
      "test: (260, 3000) (260, 1)\n"
     ]
    }
   ],
   "source": [
    "import pandas as pd\n",
    "import seaborn as sns \n",
    "import matplotlib.pyplot as plt\n",
    "import numpy as np\n",
    "\n",
    "\n",
    "X_train = pd.read_csv(\"train_X.csv\")\n",
    "y_train = pd.read_csv(\"train_y.csv\")\n",
    "X_test = pd.read_csv(\"test_X.csv\")\n",
    "y_test = pd.read_csv(\"test_y.csv\")\n",
    "print(\"train:\", X_train.shape, y_train.shape)\n",
    "print(\"test:\", X_test.shape, y_test.shape)\n",
    "\n"
   ]
  },
  {
   "cell_type": "code",
   "execution_count": null,
   "metadata": {},
   "outputs": [],
   "source": []
  },
  {
   "cell_type": "code",
   "execution_count": 7,
   "metadata": {},
   "outputs": [],
   "source": [
    "from sklearn import svm\n",
    "\n",
    "kernels=['rbf']\n",
    "\n",
    "# List to store the accuracy for each value of max_depth:\n",
    "accuracy = []\n",
    "models = []\n",
    "for kernel in kernels:\n",
    "    model = svm.SVC()\n",
    "    model.fit(X_test, y_test)\n",
    "    score = model.score(X_test, y_test)\n",
    "    accuracy.append(score)\n",
    "    models.append(clf)\n",
    "    \n",
    "best_score = max(accuracy)\n",
    "best_depth = max_depth_range[accuracy.index(best_score)]\n",
    "print(\"best:\",best_score, \"depth:\",best_depth)\n",
    "plt.plot(max_depth_range,accuracy)\n",
    "plt.xlabel(\"depth\")\n",
    "plt.ylabel(\"score\")\n",
    "plt.title(\"depth vs. score\")\n",
    "plt.savefig('tree acc.png')\n"
   ]
  },
  {
   "cell_type": "code",
   "execution_count": 23,
   "metadata": {},
   "outputs": [],
   "source": []
  },
  {
   "cell_type": "code",
   "execution_count": null,
   "metadata": {},
   "outputs": [],
   "source": []
  },
  {
   "cell_type": "code",
   "execution_count": null,
   "metadata": {},
   "outputs": [],
   "source": []
  },
  {
   "cell_type": "code",
   "execution_count": null,
   "metadata": {},
   "outputs": [],
   "source": [
    "model = SVC(kernel='linear', C=1e10)\n",
    "model.fit(X, y)\n"
   ]
  }
 ],
 "metadata": {
  "kernelspec": {
   "display_name": "Python 3",
   "language": "python",
   "name": "python3"
  },
  "language_info": {
   "codemirror_mode": {
    "name": "ipython",
    "version": 3
   },
   "file_extension": ".py",
   "mimetype": "text/x-python",
   "name": "python",
   "nbconvert_exporter": "python",
   "pygments_lexer": "ipython3",
   "version": "3.7.7"
  }
 },
 "nbformat": 4,
 "nbformat_minor": 4
}
