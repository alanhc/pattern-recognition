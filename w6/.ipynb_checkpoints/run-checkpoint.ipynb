{
 "cells": [
  {
   "cell_type": "code",
   "execution_count": 1,
   "metadata": {},
   "outputs": [
    {
     "name": "stdout",
     "output_type": "stream",
     "text": [
      "[0. 1.]\n",
      "0.9686197916666667 0.03138020833333333\n"
     ]
    }
   ],
   "source": [
    "import cv2\n",
    "import numpy as np\n",
    "import matplotlib.pyplot as plt\n",
    "img = cv2.imread(\"data/data1_10.bmp\")\n",
    "mask = cv2.imread(\"data/mask1_10.bmp\",0)\n",
    "_maxH, _maxW = max(img.shape[0], mask.shape[0]), max(img.shape[1], mask.shape[1])\n",
    "\n",
    "img = cv2.resize(img, (_maxW, _maxH), interpolation = cv2.INTER_AREA)\n",
    "mask = cv2.resize(mask, (_maxW, _maxH), interpolation = cv2.INTER_AREA)\n",
    "\n",
    "\n",
    "img_masked = cv2.bitwise_and(img,img,mask = mask)\n",
    "\n",
    "imgYCC = cv2.cvtColor(img, cv2.COLOR_BGR2YCR_CB)\n",
    "imgY = imgYCC[:,:,0]\n",
    "imgCR = imgYCC[:,:,1]\n",
    "imgCB = imgYCC[:,:,2]\n",
    "\n",
    "\n",
    "mask = mask/255.0\n",
    "mask_ct = np.unique(mask, return_counts=True)\n",
    "\n",
    "print(mask_ct[0])\n",
    "p_S = mask_ct[1][0] / mask_ct[1].sum()\n",
    "p_NS = mask_ct[1][1] / mask_ct[1].sum()\n",
    "\n",
    "\n",
    "print(p_S, p_NS)\n"
   ]
  },
  {
   "cell_type": "code",
   "execution_count": 313,
   "metadata": {},
   "outputs": [
    {
     "data": {
      "text/plain": [
       "array([[0., 0., 0., ..., 0., 0., 0.],\n",
       "       [0., 0., 0., ..., 0., 0., 0.],\n",
       "       [0., 0., 0., ..., 0., 0., 0.],\n",
       "       ...,\n",
       "       [0., 0., 0., ..., 0., 0., 0.],\n",
       "       [0., 0., 0., ..., 0., 0., 0.],\n",
       "       [0., 0., 0., ..., 0., 0., 0.]])"
      ]
     },
     "execution_count": 313,
     "metadata": {},
     "output_type": "execute_result"
    }
   ],
   "source": [
    "# count freq\n",
    "\n",
    "img_CRCB = imgYCC[:,:,1:]\n",
    "img_CRCB_2d = np.reshape(img_CRCB,(img_CRCB.shape[0]*img_CRCB.shape[1],2))\n",
    "color, ct = np.unique(img_CRCB_2d, axis=0, return_counts=True)\n",
    "idx2d_1d = [x+y*255 for y,x in color]\n",
    "\n",
    "heatmap = np.zeros((255,255))\n",
    "np.put(heatmap, idx2d_1d, ct)\n",
    "heatmap\n"
   ]
  },
  {
   "cell_type": "code",
   "execution_count": null,
   "metadata": {},
   "outputs": [],
   "source": []
  },
  {
   "cell_type": "code",
   "execution_count": 316,
   "metadata": {},
   "outputs": [
    {
     "data": {
      "text/plain": [
       "<matplotlib.axes._subplots.AxesSubplot at 0x7fca99cbc590>"
      ]
     },
     "execution_count": 316,
     "metadata": {},
     "output_type": "execute_result"
    },
    {
     "data": {
      "image/png": "[encoded data removed]",
      "text/plain": [
       "<Figure size 432x288 with 2 Axes>"
      ]
     },
     "metadata": {},
     "output_type": "display_data"
    }
   ],
   "source": [
    "sns.heatmap(heatmap)"
   ]
  },
  {
   "cell_type": "code",
   "execution_count": 283,
   "metadata": {},
   "outputs": [
    {
     "data": {
      "text/plain": [
       "array([[0., 0., 0., ..., 0., 0., 0.],\n",
       "       [0., 0., 0., ..., 0., 0., 0.],\n",
       "       [0., 4., 0., ..., 0., 0., 0.],\n",
       "       ...,\n",
       "       [0., 0., 0., ..., 0., 0., 0.],\n",
       "       [0., 0., 0., ..., 0., 0., 0.],\n",
       "       [0., 0., 0., ..., 0., 0., 0.]])"
      ]
     },
     "execution_count": 283,
     "metadata": {},
     "output_type": "execute_result"
    }
   ],
   "source": [
    "idx2d_1d = [x+y*255 for y,x in [[2,1]]]\n",
    "heatmap = np.zeros((255,255))\n",
    "np.put(heatmap, idx2d_1d, ct)\n",
    "heatmap"
   ]
  },
  {
   "cell_type": "code",
   "execution_count": 268,
   "metadata": {},
   "outputs": [],
   "source": [
    "import pandas as pd\n",
    "df = pd.DataFrame(heatmap)\n",
    "df.to_csv(\"a.csv\",  index=False)\n",
    "!open ."
   ]
  },
  {
   "cell_type": "code",
   "execution_count": 219,
   "metadata": {},
   "outputs": [
    {
     "data": {
      "text/plain": [
       "(480, 640, 2)"
      ]
     },
     "execution_count": 219,
     "metadata": {},
     "output_type": "execute_result"
    }
   ],
   "source": [
    "img_CRCB.shape"
   ]
  },
  {
   "cell_type": "code",
   "execution_count": 264,
   "metadata": {},
   "outputs": [
    {
     "data": {
      "text/plain": [
       "[1283]"
      ]
     },
     "execution_count": 264,
     "metadata": {},
     "output_type": "execute_result"
    }
   ],
   "source": [
    "[x+y*img_CRCB.shape[1] for y,x in [[2,3]]]"
   ]
  },
  {
   "cell_type": "code",
   "execution_count": 206,
   "metadata": {},
   "outputs": [
    {
     "data": {
      "text/plain": [
       "(1756,)"
      ]
     },
     "execution_count": 206,
     "metadata": {},
     "output_type": "execute_result"
    }
   ],
   "source": [
    "ct.shape"
   ]
  },
  {
   "cell_type": "code",
   "execution_count": 152,
   "metadata": {},
   "outputs": [
    {
     "name": "stderr",
     "output_type": "stream",
     "text": [
      "/Users/alanhc/opt/miniconda3/lib/python3.7/site-packages/ipykernel_launcher.py:1: RuntimeWarning: overflow encountered in ubyte_scalars\n",
      "  \"\"\"Entry point for launching an IPython kernel.\n"
     ]
    },
    {
     "data": {
      "text/plain": [
       "1756"
      ]
     },
     "execution_count": 152,
     "metadata": {},
     "output_type": "execute_result"
    }
   ],
   "source": [
    "\n",
    "len(idx2d_1d)"
   ]
  },
  {
   "cell_type": "code",
   "execution_count": 193,
   "metadata": {},
   "outputs": [
    {
     "data": {
      "text/plain": [
       "array([[1., 1., 1., ..., 0., 0., 0.],\n",
       "       [0., 0., 0., ..., 0., 0., 0.],\n",
       "       [0., 0., 0., ..., 0., 0., 0.],\n",
       "       ...,\n",
       "       [0., 0., 0., ..., 0., 0., 0.],\n",
       "       [0., 0., 0., ..., 0., 0., 0.],\n",
       "       [0., 0., 0., ..., 0., 0., 0.]])"
      ]
     },
     "execution_count": 193,
     "metadata": {},
     "output_type": "execute_result"
    }
   ],
   "source": []
  },
  {
   "cell_type": "code",
   "execution_count": 194,
   "metadata": {},
   "outputs": [
    {
     "data": {
      "text/plain": [
       "<matplotlib.axes._subplots.AxesSubplot at 0x7fcac4181310>"
      ]
     },
     "execution_count": 194,
     "metadata": {},
     "output_type": "execute_result"
    },
    {
     "data": {
      "image/png": "[encoded data removed]",
      "text/plain": [
       "<Figure size 432x288 with 2 Axes>"
      ]
     },
     "metadata": {},
     "output_type": "display_data"
    }
   ],
   "source": [
    "sns.heatmap(heatmap)"
   ]
  },
  {
   "cell_type": "code",
   "execution_count": 186,
   "metadata": {},
   "outputs": [
    {
     "data": {
      "text/plain": [
       "array([  0.,   1.,   2.,   3.,   4.,   5.,   7.,   8.,  15.,  17.,  18.,\n",
       "        20.,  23.,  48.,  71., 110.])"
      ]
     },
     "execution_count": 186,
     "metadata": {},
     "output_type": "execute_result"
    }
   ],
   "source": [
    "np.unique(heatmap)"
   ]
  },
  {
   "cell_type": "code",
   "execution_count": 228,
   "metadata": {},
   "outputs": [],
   "source": []
  },
  {
   "cell_type": "code",
   "execution_count": 187,
   "metadata": {},
   "outputs": [
    {
     "data": {
      "image/png": "[encoded data removed]",
      "text/plain": [
       "<Figure size 432x288 with 2 Axes>"
      ]
     },
     "metadata": {},
     "output_type": "display_data"
    }
   ],
   "source": [
    "import numpy as np; np.random.seed(0)\n",
    "import seaborn as sns; sns.set_theme()\n",
    "uniform_data = np.random.rand(10, 12)\n",
    "ax = sns.heatmap(uniform_data)"
   ]
  },
  {
   "cell_type": "code",
   "execution_count": 11,
   "metadata": {},
   "outputs": [
    {
     "data": {
      "text/plain": [
       "(10, 12)"
      ]
     },
     "execution_count": 11,
     "metadata": {},
     "output_type": "execute_result"
    }
   ],
   "source": [
    "uniform_data.shape"
   ]
  },
  {
   "cell_type": "code",
   "execution_count": 262,
   "metadata": {},
   "outputs": [],
   "source": []
  },
  {
   "cell_type": "code",
   "execution_count": 79,
   "metadata": {},
   "outputs": [
    {
     "data": {
      "text/plain": [
       "(array([  0,   1,   2,   3,   5,   6,   7,   9,  10,  11,  12,  13,  14,\n",
       "         15,  16,  17,  18,  19,  20,  21,  22,  23,  24,  25,  26,  27,\n",
       "         28,  29,  30,  31,  32,  33,  34,  35,  36,  37,  38,  39,  40,\n",
       "         41,  42,  43,  44,  45,  46,  47,  48,  49,  50,  51,  52,  53,\n",
       "         54,  55,  56,  57,  58,  59,  60,  61,  62,  63,  64,  65,  66,\n",
       "         67,  68,  69,  70,  71,  72,  73,  74,  75,  76,  77,  78,  79,\n",
       "         80,  81,  82,  83,  84,  85,  86,  87,  88,  89,  90,  91,  92,\n",
       "         93,  94,  95,  96,  97,  98,  99, 100, 101, 102, 103, 104, 105,\n",
       "        106, 107, 108, 109, 110, 111, 112, 113, 114, 115, 116, 117, 118,\n",
       "        119, 120, 121, 122, 123, 124, 125, 126, 127, 128, 129, 130, 131,\n",
       "        132, 133, 134, 135, 136, 137, 138, 139, 140, 141, 142, 143, 144,\n",
       "        145, 146, 147, 148, 149, 150, 151, 152, 153, 154, 155, 156, 157,\n",
       "        158, 159, 160, 161, 162, 163, 164, 165, 166, 167, 168, 169, 170,\n",
       "        171, 172, 173, 174, 175, 176, 177, 178, 179, 180, 181, 182, 183,\n",
       "        184, 185, 186, 187, 188, 189, 190, 191, 192, 193, 194, 195, 196,\n",
       "        197, 198, 199, 200, 201, 202, 203, 204, 205, 206, 207, 208, 209,\n",
       "        210, 211, 212, 213, 214, 215, 216, 217, 218, 219, 220, 221, 222,\n",
       "        223, 224, 225, 226, 227, 228, 229, 230, 231, 232, 233, 234, 235,\n",
       "        236, 237, 238, 239, 240, 241, 242, 243, 244, 245, 246, 247, 248,\n",
       "        249, 250, 251, 252, 253, 254, 255], dtype=uint8),\n",
       " array([892696,      3,      1,      1,      1,      1,      1,      4,\n",
       "             1,      2,      2,      2,      1,      4,      4,      3,\n",
       "             1,      1,      3,      1,      2,      7,      2,      1,\n",
       "             1,      3,      3,      5,      2,      4,      2,      3,\n",
       "             4,      7,      7,      4,      1,      4,      9,     12,\n",
       "             6,      9,     11,     13,     11,      8,      7,      7,\n",
       "             6,     11,     14,      4,     12,      5,     16,     16,\n",
       "            11,     24,      9,     21,     20,     22,     33,     26,\n",
       "            31,     39,     42,     40,     27,     48,     22,     33,\n",
       "            16,     27,     38,     28,     25,     42,     27,     28,\n",
       "            29,     31,     47,     41,     37,     45,     45,     52,\n",
       "            54,     55,     57,     55,     66,     67,     73,     61,\n",
       "            81,     75,     70,     64,     65,     64,     86,     77,\n",
       "            76,     70,     82,     95,     97,     81,     97,    101,\n",
       "           126,     89,    119,     93,    137,    111,    166,    162,\n",
       "           133,    162,    174,    197,    248,    207,    274,    186,\n",
       "           295,    321,    347,    356,    337,    424,    296,    418,\n",
       "           438,    399,    427,    426,    427,    350,    396,    377,\n",
       "           390,    377,    383,    346,    395,    396,    421,    426,\n",
       "           372,    310,    316,    264,    304,    250,    330,    338,\n",
       "           342,    319,    301,    299,    229,    259,    198,    146,\n",
       "           160,    121,    142,    134,     99,    118,     74,     81,\n",
       "            62,     64,     61,     54,     63,     55,     59,     60,\n",
       "            61,     70,     65,     80,     74,     91,     79,     75,\n",
       "           102,    109,     98,    120,    147,    152,    162,    178,\n",
       "           184,    178,    133,    196,    213,    262,    212,    255,\n",
       "           243,    226,    218,    169,    246,    192,    245,    201,\n",
       "           186,    231,    226,    189,    162,    191,    151,    129,\n",
       "           160,    138,    111,    106,     90,    101,     87,     78,\n",
       "           100,     64,     49,     48,     47,     39,     38,     34,\n",
       "            20,     16,     10,      4,      6,     11,     14,      6,\n",
       "            15,     22,     19,      6,     13,    164]))"
      ]
     },
     "execution_count": 79,
     "metadata": {},
     "output_type": "execute_result"
    }
   ],
   "source": [
    "np.unique(img_masked,return_counts=True)"
   ]
  },
  {
   "cell_type": "code",
   "execution_count": 70,
   "metadata": {},
   "outputs": [
    {
     "data": {
      "text/plain": [
       "(480, 640)"
      ]
     },
     "execution_count": 70,
     "metadata": {},
     "output_type": "execute_result"
    }
   ],
   "source": [
    "mask.shape"
   ]
  },
  {
   "cell_type": "code",
   "execution_count": 4,
   "metadata": {},
   "outputs": [
    {
     "name": "stdout",
     "output_type": "stream",
     "text": [
      "data10_10.bmp  data6_10.bmp   mask2_10.bmp   mask8_10.bmp   t_4.bmp\r\n",
      "data1_10.bmp   data7_10.bmp   mask3_10.bmp   mask9_10.bmp   t_5.bmp\r\n",
      "data2_10.bmp   data8_10.bmp   mask4_10.bmp   t_1.bmp        t_6.bmp\r\n",
      "data3_10.bmp   data9_10.bmp   mask5_10.bmp   t_10.bmp       t_7.bmp\r\n",
      "data4_10.bmp   mask10_10.bmp  mask6_10.bmp   t_2.bmp        t_8.bmp\r\n",
      "data5_10.bmp   mask1_10.bmp   mask7_10.bmp   t_3.bmp        t_9.bmp\r\n"
     ]
    }
   ],
   "source": [
    "ls data/"
   ]
  }
 ],
 "metadata": {
  "kernelspec": {
   "display_name": "Python 3",
   "language": "python",
   "name": "python3"
  },
  "language_info": {
   "codemirror_mode": {
    "name": "ipython",
    "version": 3
   },
   "file_extension": ".py",
   "mimetype": "text/x-python",
   "name": "python",
   "nbconvert_exporter": "python",
   "pygments_lexer": "ipython3",
   "version": "3.7.7"
  }
 },
 "nbformat": 4,
 "nbformat_minor": 4
}
