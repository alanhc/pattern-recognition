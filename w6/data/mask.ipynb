{
 "cells": [
  {
   "cell_type": "code",
   "execution_count": 30,
   "metadata": {},
   "outputs": [
    {
     "data": {
      "text/plain": [
       "<matplotlib.image.AxesImage at 0x7f8e5a15b110>"
      ]
     },
     "execution_count": 30,
     "metadata": {},
     "output_type": "execute_result"
    },
    {
     "data": {
      "image/png": "[encoded data removed]",
      "text/plain": [
       "<Figure size 432x288 with 1 Axes>"
      ]
     },
     "metadata": {
      "needs_background": "light"
     },
     "output_type": "display_data"
    }
   ],
   "source": [
    "import cv2\n",
    "import matplotlib.pyplot as plt\n",
    "import numpy as np\n",
    "img = cv2.imread(\"test/data1_10.png\")\n",
    "img_hsv=cv2.cvtColor(img, cv2.COLOR_BGR2HSV)\n",
    "\n",
    "# lower mask (0-10)\n",
    "lower_red = np.array([0,255,255])\n",
    "upper_red = np.array([0,255,255])\n",
    "mask0 = cv2.inRange(img_hsv, lower_red, upper_red)\n",
    "\n",
    "# upper mask (170-180)\n",
    "lower_red = np.array([170,50,50])\n",
    "upper_red = np.array([180,255,255])\n",
    "mask1 = cv2.inRange(img_hsv, lower_red, upper_red)\n",
    "\n",
    "# join my masks\n",
    "mask = mask0\n",
    "plt.imshow(mask)\n"
   ]
  },
  {
   "cell_type": "code",
   "execution_count": 45,
   "metadata": {},
   "outputs": [],
   "source": [
    "import glob\n",
    "import os\n",
    "files = glob.glob(\"test/*.png\")\n",
    "for f in files:\n",
    "    img = cv2.imread(f)\n",
    "    img_hsv=cv2.cvtColor(img, cv2.COLOR_BGR2HSV)\n",
    "\n",
    "    # lower mask (0-10)\n",
    "    lower_red = np.array([0,100,250])\n",
    "    upper_red = np.array([15,255,255])\n",
    "    mask = cv2.inRange(img_hsv, lower_red, upper_red)\n",
    "    filename = os.path.basename(f)\n",
    "    cv2.imwrite(\"mask/\"+filename, mask)\n",
    "    "
   ]
  }
 ],
 "metadata": {
  "kernelspec": {
   "display_name": "Python 3",
   "language": "python",
   "name": "python3"
  },
  "language_info": {
   "codemirror_mode": {
    "name": "ipython",
    "version": 3
   },
   "file_extension": ".py",
   "mimetype": "text/x-python",
   "name": "python",
   "nbconvert_exporter": "python",
   "pygments_lexer": "ipython3",
   "version": "3.7.7"
  }
 },
 "nbformat": 4,
 "nbformat_minor": 4
}
