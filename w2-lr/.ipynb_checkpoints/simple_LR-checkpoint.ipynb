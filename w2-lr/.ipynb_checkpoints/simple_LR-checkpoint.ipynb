{
 "cells": [
  {
   "cell_type": "code",
   "execution_count": 1,
   "metadata": {},
   "outputs": [
    {
     "data": {
      "text/plain": [
       "Text(0.5, 1.0, 'Linear dependency')"
      ]
     },
     "execution_count": 1,
     "metadata": {},
     "output_type": "execute_result"
    },
    {
     "data": {
      "image/png": "[encoded data removed]",
      "text/plain": [
       "<Figure size 432x288 with 1 Axes>"
      ]
     },
     "metadata": {
      "needs_background": "light"
     },
     "output_type": "display_data"
    }
   ],
   "source": [
    "import matplotlib.pyplot as plt\n",
    "import numpy as np\n",
    "import tensorflow as tf\n",
    "\n",
    "x = np.array([5, 4, 3, 6, 8, 1, 9, 2, 7])\n",
    "y = np.array([10, 9, 6, 14, 14, 2, 17, 5, 13])\n",
    "plt.figure(1)\n",
    "plt.style.use(\"seaborn\")\n",
    "plt.plot(x, y, 'bo', label='x')\n",
    "plt.xlabel('X axis')\n",
    "plt.ylabel('Y axis')\n",
    "plt.title('Linear dependency')"
   ]
  },
  {
   "cell_type": "code",
   "execution_count": 52,
   "metadata": {},
   "outputs": [
    {
     "name": "stdout",
     "output_type": "stream",
     "text": [
      "model: y=1.77x+1.17\n",
      "tf.Tensor(\n",
      "[10.          8.23333333  6.46666667 11.76666667 15.3         2.93333333\n",
      " 17.06666667  4.7        13.53333333], shape=(9,), dtype=float64)\n"
     ]
    },
    {
     "data": {
      "text/plain": [
       "8.733333333333336"
      ]
     },
     "execution_count": 52,
     "metadata": {},
     "output_type": "execute_result"
    }
   ],
   "source": [
    "class TF_SimpleLinearRegression:\n",
    "    \n",
    "    def __init__(self):\n",
    "        self.a = 0\n",
    "        self.b = 0\n",
    "    \n",
    "    def fit(self, x, y):\n",
    "        x = tf.convert_to_tensor(x, dtype=tf.float64)\n",
    "        y = tf.convert_to_tensor(y, dtype=tf.float64)\n",
    "       \n",
    "        ##### y=ax+b #####\n",
    "        # some var in equation\n",
    "        x_sum = tf.reduce_sum(x)\n",
    "        y_sum = tf.reduce_sum(y)\n",
    "        xy_sum = tf.reduce_sum( tf.math.multiply(x,y) )\n",
    "        x2_sum = tf.reduce_sum( tf.math.pow(x,2) )\n",
    "       \n",
    "        n = x.shape[0]\n",
    "        # a (slope)\n",
    "        ## numerator(分子)、denominator(分母)\n",
    "        a_numerator = (n * xy_sum) - (x_sum * y_sum)\n",
    "        a_denominator = (n * x2_sum) - (x_sum**2)\n",
    "        a = a_numerator / a_denominator\n",
    "\n",
    "        \n",
    "        b = (y_sum - (a*x_sum)) / n\n",
    "        self.a = a\n",
    "        self.b = b\n",
    "        print(\"model: y={}x+{}\".format(round(a.numpy(),2),round(b.numpy(),2)))\n",
    "    \n",
    "    def predict(self, x):\n",
    "        regression = lambda x : self.b + self.a * x\n",
    "        return regression(x)\n",
    "    \n",
    "    def score(self, X_test, y_test):\n",
    "        x = tf.convert_to_tensor(X_test, dtype=tf.float64)\n",
    "        y = tf.convert_to_tensor(y_test, dtype=tf.float64)\n",
    "        y_pred = self.predict(x)\n",
    "        mse = tf.reduce_sum( (y-y_pred) ** 2 )\n",
    "        \n",
    "        return mse.numpy()\n",
    "    \n",
    "model = TF_SimpleLinearRegression()\n",
    "model.fit(x,y)\n",
    "y_pred = model.predict(x)\n",
    "print(y_pred)\n",
    "model.score(X_test = x, y_test=y)\n",
    "\n"
   ]
  },
  {
   "cell_type": "code",
   "execution_count": 53,
   "metadata": {},
   "outputs": [
    {
     "data": {
      "text/plain": [
       "Text(0.5, 1.0, 'Linear dependency with trend line')"
      ]
     },
     "execution_count": 53,
     "metadata": {},
     "output_type": "execute_result"
    },
    {
     "data": {
      "image/png": "[encoded data removed]",
      "text/plain": [
       "<Figure size 576x396 with 1 Axes>"
      ]
     },
     "metadata": {},
     "output_type": "display_data"
    }
   ],
   "source": [
    "plt.figure(2)\n",
    "plt.plot(x, y, 'bo')\n",
    "plt.plot(x, y_pred, 'r')\n",
    "plt.xlabel('X axis')\n",
    "plt.ylabel('Y axis')\n",
    "plt.title('Linear dependency with trend line')"
   ]
  },
  {
   "cell_type": "code",
   "execution_count": null,
   "metadata": {},
   "outputs": [],
   "source": []
  }
 ],
 "metadata": {
  "kernelspec": {
   "display_name": "Python 3",
   "language": "python",
   "name": "python3"
  },
  "language_info": {
   "codemirror_mode": {
    "name": "ipython",
    "version": 3
   },
   "file_extension": ".py",
   "mimetype": "text/x-python",
   "name": "python",
   "nbconvert_exporter": "python",
   "pygments_lexer": "ipython3",
   "version": "3.7.7"
  }
 },
 "nbformat": 4,
 "nbformat_minor": 4
}
